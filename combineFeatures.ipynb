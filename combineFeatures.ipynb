{
 "cells": [
  {
   "cell_type": "code",
   "execution_count": 80,
   "metadata": {},
   "outputs": [
    {
     "name": "stdout",
     "output_type": "stream",
     "text": [
      "310\n",
      "45\n",
      "18\n",
      "58\n",
      "25\n",
      "69\n",
      "28\n",
      "83\n"
     ]
    }
   ],
   "source": [
    "import csv\n",
    "\n",
    "\n",
    "def printFeature(feature):\n",
    "    for ft in feature:\n",
    "        print(ft),\n",
    "    #print('')\n",
    "    \n",
    "def parseFeatureLine(line):\n",
    "    featureStr = line.strip().split(' ,')\n",
    "    feature = map(int, featureStr)\n",
    "    \n",
    "    return feature\n",
    "\n",
    "def parseTwoLines(csvfile):\n",
    "    \n",
    "    \n",
    "    emotion = csvfile.readline()\n",
    "    print(emotion)\n",
    "    featureStr = csvfile.readline().strip().split(' ,')    \n",
    "    # print(featureStr)\n",
    "    \n",
    "    feature = map(int, featureStr)\n",
    "    # print(feature)\n",
    "    \n",
    "    \n",
    "\n",
    "    return emotion, feature\n",
    "\n",
    "\n",
    "    \n",
    "    \n",
    "def convertCSV(emotionName):\n",
    "\n",
    "    ## Read feature points and clean up \n",
    "\n",
    "    with open('feature-68pt-pre/'+emotionName+'.csv', newline='') as csvfile:\n",
    "\n",
    "        lines = csvfile.read().strip().splitlines()\n",
    "\n",
    "        numLine = len(lines)\n",
    "        #print(numLine)\n",
    "\n",
    "        numSample = int(numLine/2)\n",
    "        print(numSample)\n",
    "\n",
    "\n",
    "        with open('feature-68pt/'+emotionName+'.csv', 'w', newline='') as outfile:\n",
    "\n",
    "            for i in range(numSample):\n",
    "                #print(lines[i*2])\n",
    "                emotion = lines[i*2]\n",
    "                #print(lines[i*2+1])\n",
    "                feature = parseFeatureLine(lines[i*2+1])\n",
    "                #printFeature(feature)\n",
    "            #    print(i)\n",
    "            #for line in lines:\n",
    "            #    print(line)\n",
    "\n",
    "                csvCleaned = csv.writer(outfile, delimiter=',',\n",
    "                                        quotechar=',', quoting=csv.QUOTE_MINIMAL)\n",
    "                csvCleaned.writerow(feature)\n",
    "\n",
    "                \n",
    "## list of emotions\n",
    "emotions = [\"neutral\", \"anger\", \"contempt\", \"disgust\", \"fear\", \"happy\", \"sadness\", \"surprise\"]\n",
    "\n",
    "#emotionName ='contempt'    \n",
    "for emotion in emotions:\n",
    "    convertCSV(emotion)\n",
    "\n",
    "\n",
    "#    print(csvfile[0])\n",
    "    #emotion, feature = parseTwoLines(csvfile)\n",
    "    #print(emotion)\n",
    "    #printFeature(feature)\n",
    "    "
   ]
  },
  {
   "cell_type": "code",
   "execution_count": 110,
   "metadata": {},
   "outputs": [],
   "source": [
    "import pandas as pd\n",
    "\n",
    "## READ FEATURE AND COMBINE IT WITH THE EMOTION NAME\n",
    "def readCSVpd(emotion, emotionID):\n",
    "\n",
    "    feature = pd.read_csv('feature-68pt/'+emotion+'.csv',header=None) \n",
    "    #feature.head()\n",
    "    feature['emotion']= emotion\n",
    "    feature['emotionID']= emotionID\n",
    "    #feature.head()\n",
    "    return feature\n",
    "\n",
    "dfList = []\n",
    "cnt = 0;\n",
    "for emotion in emotions:\n",
    "    df=readCSVpd(emotion, cnt)\n",
    "    df.head()\n",
    "    dfList.append(df)\n",
    "    cnt = cnt + 1\n",
    "len(dfList)\n",
    "\n",
    "# Merge all into one dataframe\n",
    "dfAll = pd.concat(dfList, ignore_index=True)    \n",
    "# svae it to a csv file \n",
    "dfAll.to_csv('features.csv')\n"
   ]
  },
  {
   "cell_type": "code",
   "execution_count": 100,
   "metadata": {},
   "outputs": [
    {
     "data": {
      "text/plain": [
       "8"
      ]
     },
     "execution_count": 100,
     "metadata": {},
     "output_type": "execute_result"
    }
   ],
   "source": []
  },
  {
   "cell_type": "code",
   "execution_count": null,
   "metadata": {},
   "outputs": [],
   "source": []
  }
 ],
 "metadata": {
  "kernelspec": {
   "display_name": "Python 3",
   "language": "python",
   "name": "python3"
  },
  "language_info": {
   "codemirror_mode": {
    "name": "ipython",
    "version": 3
   },
   "file_extension": ".py",
   "mimetype": "text/x-python",
   "name": "python",
   "nbconvert_exporter": "python",
   "pygments_lexer": "ipython3",
   "version": "3.6.3"
  }
 },
 "nbformat": 4,
 "nbformat_minor": 2
}
